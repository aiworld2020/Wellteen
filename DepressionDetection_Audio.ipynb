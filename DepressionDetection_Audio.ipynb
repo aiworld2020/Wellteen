{
 "cells": [
  {
   "cell_type": "code",
   "execution_count": 1,
   "id": "641b898e",
   "metadata": {},
   "outputs": [],
   "source": [
    "import numpy as np\n",
    "import pandas as pd\n",
    "import matplotlib.pyplot as plt\n",
    "\n",
    "# libs for audio\n",
    "from scipy.io import wavfile as wav\n",
    "import librosa\n",
    "\n",
    "# Processing\n",
    "from sklearn.model_selection import train_test_split\n",
    "from sklearn.model_selection import RepeatedKFold\n",
    "from sklearn.base import clone\n",
    "import random\n",
    "\n",
    "# Classifiers\n",
    "from sklearn.naive_bayes import GaussianNB\n",
    "from sklearn.linear_model import LogisticRegression\n",
    "from sklearn.tree import DecisionTreeClassifier\n",
    "from sklearn.ensemble import RandomForestClassifier\n",
    "from sklearn.svm import SVC\n",
    "from sklearn.model_selection import GridSearchCV\n",
    "\n",
    "# Metrics\n",
    "from sklearn import utils\n",
    "from sklearn.metrics import classification_report, confusion_matrix, roc_curve, roc_auc_score, \\\n",
    "        f1_score, precision_score, recall_score"
   ]
  },
  {
   "cell_type": "code",
   "execution_count": 2,
   "id": "90f9f0e8",
   "metadata": {},
   "outputs": [
    {
     "name": "stdout",
     "output_type": "stream",
     "text": [
      "Requirement already satisfied: resampy in /Users/nidhigupta/opt/anaconda3/lib/python3.8/site-packages (0.4.2)\r\n",
      "Requirement already satisfied: numpy>=1.17 in /Users/nidhigupta/opt/anaconda3/lib/python3.8/site-packages (from resampy) (1.22.4)\r\n",
      "Requirement already satisfied: numba>=0.53 in /Users/nidhigupta/opt/anaconda3/lib/python3.8/site-packages (from resampy) (0.53.1)\r\n",
      "Requirement already satisfied: setuptools in /Users/nidhigupta/opt/anaconda3/lib/python3.8/site-packages (from numba>=0.53->resampy) (52.0.0.post20210125)\r\n",
      "Requirement already satisfied: llvmlite<0.37,>=0.36.0rc1 in /Users/nidhigupta/opt/anaconda3/lib/python3.8/site-packages (from numba>=0.53->resampy) (0.36.0)\r\n"
     ]
    }
   ],
   "source": [
    "!pip install resampy"
   ]
  },
  {
   "cell_type": "code",
   "execution_count": 3,
   "id": "7b3f0046",
   "metadata": {},
   "outputs": [],
   "source": [
    "import resampy"
   ]
  },
  {
   "cell_type": "code",
   "execution_count": 4,
   "id": "eee85aab",
   "metadata": {},
   "outputs": [
    {
     "name": "stdout",
     "output_type": "stream",
     "text": [
      "INSTALLED VERSIONS\n",
      "------------------\n",
      "python: 3.8.8 (default, Apr 13 2021, 12:59:45) \n",
      "[Clang 10.0.0 ]\n",
      "\n",
      "librosa: 0.10.1\n",
      "\n",
      "audioread: 3.0.0\n",
      "numpy: 1.22.4\n",
      "scipy: 1.6.2\n",
      "sklearn: 0.24.1\n",
      "joblib: 1.0.1\n",
      "decorator: 5.0.6\n",
      "numba: 0.53.1\n",
      "soundfile: 0.12.1\n",
      "pooch: v1.7.0\n",
      "soxr: 0.3.6\n",
      "typing_extensions: installed, no version number available\n",
      "lazy_loader: installed, no version number available\n",
      "msgpack: installed, no version number available\n",
      "\n",
      "numpydoc: 1.1.0\n",
      "sphinx: 4.0.1\n",
      "sphinx_rtd_theme: None\n",
      "matplotlib: 3.3.4\n",
      "sphinx_multiversion: None\n",
      "sphinx_gallery: None\n",
      "mir_eval: None\n",
      "ipython: None\n",
      "sphinxcontrib.rsvgconverter: None\n",
      "pytest: 6.2.3\n",
      "pytest_mpl: None\n",
      "pytest_cov: None\n",
      "samplerate: 0.1.0\n",
      "resampy: 0.4.2\n",
      "presets: None\n",
      "packaging: 20.9\n"
     ]
    }
   ],
   "source": [
    "librosa.show_versions()"
   ]
  },
  {
   "cell_type": "code",
   "execution_count": 5,
   "id": "7aa909f9",
   "metadata": {},
   "outputs": [],
   "source": [
    "def extract_features_librosa(file_name):\n",
    "    audio, sample_rate = librosa.load(file_name, res_type='kaiser_fast')\n",
    "    mfccs = librosa.feature.mfcc(y=audio, sr=sample_rate, n_mfcc=40) # 40\n",
    "    mfccs_processed = np.mean(mfccs.T,axis=0)\n",
    "\n",
    "    return mfccs_processed"
   ]
  },
  {
   "cell_type": "code",
   "execution_count": 6,
   "id": "be001a08",
   "metadata": {},
   "outputs": [
    {
     "name": "stdout",
     "output_type": "stream",
     "text": [
      "/Users/nidhigupta/Library/CloudStorage/GoogleDrive-aryanrajagrawal@gmail.com/My Drive/Colab Notebooks/DAIC-WOZ/dev_data/302_AUDIO.wav\n",
      "/Users/nidhigupta/Library/CloudStorage/GoogleDrive-aryanrajagrawal@gmail.com/My Drive/Colab Notebooks/DAIC-WOZ/dev_data/307_AUDIO.wav\n",
      "/Users/nidhigupta/Library/CloudStorage/GoogleDrive-aryanrajagrawal@gmail.com/My Drive/Colab Notebooks/DAIC-WOZ/dev_data/331_AUDIO.wav\n",
      "/Users/nidhigupta/Library/CloudStorage/GoogleDrive-aryanrajagrawal@gmail.com/My Drive/Colab Notebooks/DAIC-WOZ/dev_data/335_AUDIO.wav\n",
      "/Users/nidhigupta/Library/CloudStorage/GoogleDrive-aryanrajagrawal@gmail.com/My Drive/Colab Notebooks/DAIC-WOZ/dev_data/346_AUDIO.wav\n",
      "/Users/nidhigupta/Library/CloudStorage/GoogleDrive-aryanrajagrawal@gmail.com/My Drive/Colab Notebooks/DAIC-WOZ/dev_data/367_AUDIO.wav\n",
      "/Users/nidhigupta/Library/CloudStorage/GoogleDrive-aryanrajagrawal@gmail.com/My Drive/Colab Notebooks/DAIC-WOZ/dev_data/377_AUDIO.wav\n",
      "/Users/nidhigupta/Library/CloudStorage/GoogleDrive-aryanrajagrawal@gmail.com/My Drive/Colab Notebooks/DAIC-WOZ/dev_data/389_AUDIO.wav\n",
      "/Users/nidhigupta/Library/CloudStorage/GoogleDrive-aryanrajagrawal@gmail.com/My Drive/Colab Notebooks/DAIC-WOZ/dev_data/403_AUDIO.wav\n",
      "/Users/nidhigupta/Library/CloudStorage/GoogleDrive-aryanrajagrawal@gmail.com/My Drive/Colab Notebooks/DAIC-WOZ/dev_data/404_AUDIO.wav\n",
      "/Users/nidhigupta/Library/CloudStorage/GoogleDrive-aryanrajagrawal@gmail.com/My Drive/Colab Notebooks/DAIC-WOZ/dev_data/406_AUDIO.wav\n",
      "/Users/nidhigupta/Library/CloudStorage/GoogleDrive-aryanrajagrawal@gmail.com/My Drive/Colab Notebooks/DAIC-WOZ/dev_data/417_AUDIO.wav\n",
      "/Users/nidhigupta/Library/CloudStorage/GoogleDrive-aryanrajagrawal@gmail.com/My Drive/Colab Notebooks/DAIC-WOZ/dev_data/418_AUDIO.wav\n",
      "/Users/nidhigupta/Library/CloudStorage/GoogleDrive-aryanrajagrawal@gmail.com/My Drive/Colab Notebooks/DAIC-WOZ/dev_data/420_AUDIO.wav\n",
      "/Users/nidhigupta/Library/CloudStorage/GoogleDrive-aryanrajagrawal@gmail.com/My Drive/Colab Notebooks/DAIC-WOZ/dev_data/422_AUDIO.wav\n",
      "/Users/nidhigupta/Library/CloudStorage/GoogleDrive-aryanrajagrawal@gmail.com/My Drive/Colab Notebooks/DAIC-WOZ/dev_data/436_AUDIO.wav\n",
      "/Users/nidhigupta/Library/CloudStorage/GoogleDrive-aryanrajagrawal@gmail.com/My Drive/Colab Notebooks/DAIC-WOZ/dev_data/439_AUDIO.wav\n",
      "/Users/nidhigupta/Library/CloudStorage/GoogleDrive-aryanrajagrawal@gmail.com/My Drive/Colab Notebooks/DAIC-WOZ/dev_data/440_AUDIO.wav\n",
      "/Users/nidhigupta/Library/CloudStorage/GoogleDrive-aryanrajagrawal@gmail.com/My Drive/Colab Notebooks/DAIC-WOZ/dev_data/451_AUDIO.wav\n",
      "/Users/nidhigupta/Library/CloudStorage/GoogleDrive-aryanrajagrawal@gmail.com/My Drive/Colab Notebooks/DAIC-WOZ/dev_data/458_AUDIO.wav\n",
      "/Users/nidhigupta/Library/CloudStorage/GoogleDrive-aryanrajagrawal@gmail.com/My Drive/Colab Notebooks/DAIC-WOZ/dev_data/472_AUDIO.wav\n",
      "/Users/nidhigupta/Library/CloudStorage/GoogleDrive-aryanrajagrawal@gmail.com/My Drive/Colab Notebooks/DAIC-WOZ/dev_data/477_AUDIO.wav\n",
      "/Users/nidhigupta/Library/CloudStorage/GoogleDrive-aryanrajagrawal@gmail.com/My Drive/Colab Notebooks/DAIC-WOZ/dev_data/482_AUDIO.wav\n",
      "/Users/nidhigupta/Library/CloudStorage/GoogleDrive-aryanrajagrawal@gmail.com/My Drive/Colab Notebooks/DAIC-WOZ/dev_data/483_AUDIO.wav\n",
      "/Users/nidhigupta/Library/CloudStorage/GoogleDrive-aryanrajagrawal@gmail.com/My Drive/Colab Notebooks/DAIC-WOZ/dev_data/484_AUDIO.wav\n",
      "/Users/nidhigupta/Library/CloudStorage/GoogleDrive-aryanrajagrawal@gmail.com/My Drive/Colab Notebooks/DAIC-WOZ/dev_data/489_AUDIO.wav\n"
     ]
    }
   ],
   "source": [
    "dev_location = \"dev_data/\"\n",
    "test_location = \"test_data/\"\n",
    "train_location = \"train_data/\"\n",
    "\n",
    "google_drive_path =\"/Users/nidhigupta/Library/CloudStorage/GoogleDrive-aryanrajagrawal@gmail.com/My Drive/Colab Notebooks/DAIC-WOZ/\"\n",
    "\n",
    "df_dev = pd.read_csv(google_drive_path+'dev_split_Depression_AVEC2017.csv',delimiter=',',encoding='utf-8')\n",
    "df_test = pd.read_csv(google_drive_path+'full_test_split.csv',delimiter=',',encoding='utf-8')\n",
    "df_train = pd.read_csv(google_drive_path+'train_split_Depression_AVEC2017.csv',delimiter=',',encoding='utf-8')\n",
    "\n",
    "\n",
    "\n",
    "# df = pd.read_csv(\"D:/SUTD/ISTD/Term 6/cds/Project/fulltestsplit.csv\")\n",
    "y = df_dev['PHQ8_Binary']\n",
    "x = df_dev['Participant_ID']\n",
    "\n",
    "\n",
    "features = []\n",
    "\n",
    "# Audio files with lots of static\n",
    "prob = [300, 305, 306, 308, 315, 316, 343, 354, 362, 375, 378, 381, 382, 385, 387, 388, 390, 392, 393, 395, 408, 413, 421, 438, 473, 476, 479, 490, 492]\n",
    "for index, audio_num in enumerate(x):\n",
    "    if audio_num not in prob:\n",
    "        try:\n",
    "            fn = google_drive_path+dev_location+str(audio_num)+'_AUDIO.wav'\n",
    "            print(fn)\n",
    "            features.append([audio_num,extract_features_librosa(fn),y[index]])\n",
    "        except Exception as e:\n",
    "            print(e)\n",
    "        \"\"\" librosa_audio, librosa_sample_rate = librosa.load(fn)\n",
    "        scipy_sample_rate, scipy_audio = wav.read(fn) \"\"\"\n",
    "\n",
    "featuresdf = pd.DataFrame(features,columns = ['Participant_ID','feature','PHQ8_Binary'])\n",
    "featuresdf.to_csv('librosa_mfcc_feature_dev.csv')"
   ]
  },
  {
   "cell_type": "code",
   "execution_count": 7,
   "id": "1deb0dff",
   "metadata": {},
   "outputs": [
    {
     "name": "stdout",
     "output_type": "stream",
     "text": [
      "/Users/nidhigupta/Library/CloudStorage/GoogleDrive-aryanrajagrawal@gmail.com/My Drive/Colab Notebooks/DAIC-WOZ/train_data/303_AUDIO.wav\n",
      "/Users/nidhigupta/Library/CloudStorage/GoogleDrive-aryanrajagrawal@gmail.com/My Drive/Colab Notebooks/DAIC-WOZ/train_data/304_AUDIO.wav\n",
      "/Users/nidhigupta/Library/CloudStorage/GoogleDrive-aryanrajagrawal@gmail.com/My Drive/Colab Notebooks/DAIC-WOZ/train_data/310_AUDIO.wav\n",
      "/Users/nidhigupta/Library/CloudStorage/GoogleDrive-aryanrajagrawal@gmail.com/My Drive/Colab Notebooks/DAIC-WOZ/train_data/312_AUDIO.wav\n",
      "/Users/nidhigupta/Library/CloudStorage/GoogleDrive-aryanrajagrawal@gmail.com/My Drive/Colab Notebooks/DAIC-WOZ/train_data/313_AUDIO.wav\n",
      "/Users/nidhigupta/Library/CloudStorage/GoogleDrive-aryanrajagrawal@gmail.com/My Drive/Colab Notebooks/DAIC-WOZ/train_data/317_AUDIO.wav\n",
      "/Users/nidhigupta/Library/CloudStorage/GoogleDrive-aryanrajagrawal@gmail.com/My Drive/Colab Notebooks/DAIC-WOZ/train_data/318_AUDIO.wav\n",
      "/Users/nidhigupta/Library/CloudStorage/GoogleDrive-aryanrajagrawal@gmail.com/My Drive/Colab Notebooks/DAIC-WOZ/train_data/319_AUDIO.wav\n",
      "/Users/nidhigupta/Library/CloudStorage/GoogleDrive-aryanrajagrawal@gmail.com/My Drive/Colab Notebooks/DAIC-WOZ/train_data/320_AUDIO.wav\n",
      "/Users/nidhigupta/Library/CloudStorage/GoogleDrive-aryanrajagrawal@gmail.com/My Drive/Colab Notebooks/DAIC-WOZ/train_data/321_AUDIO.wav\n",
      "/Users/nidhigupta/Library/CloudStorage/GoogleDrive-aryanrajagrawal@gmail.com/My Drive/Colab Notebooks/DAIC-WOZ/train_data/322_AUDIO.wav\n",
      "/Users/nidhigupta/Library/CloudStorage/GoogleDrive-aryanrajagrawal@gmail.com/My Drive/Colab Notebooks/DAIC-WOZ/train_data/324_AUDIO.wav\n",
      "/Users/nidhigupta/Library/CloudStorage/GoogleDrive-aryanrajagrawal@gmail.com/My Drive/Colab Notebooks/DAIC-WOZ/train_data/325_AUDIO.wav\n",
      "/Users/nidhigupta/Library/CloudStorage/GoogleDrive-aryanrajagrawal@gmail.com/My Drive/Colab Notebooks/DAIC-WOZ/train_data/326_AUDIO.wav\n",
      "/Users/nidhigupta/Library/CloudStorage/GoogleDrive-aryanrajagrawal@gmail.com/My Drive/Colab Notebooks/DAIC-WOZ/train_data/327_AUDIO.wav\n",
      "/Users/nidhigupta/Library/CloudStorage/GoogleDrive-aryanrajagrawal@gmail.com/My Drive/Colab Notebooks/DAIC-WOZ/train_data/328_AUDIO.wav\n",
      "/Users/nidhigupta/Library/CloudStorage/GoogleDrive-aryanrajagrawal@gmail.com/My Drive/Colab Notebooks/DAIC-WOZ/train_data/330_AUDIO.wav\n",
      "/Users/nidhigupta/Library/CloudStorage/GoogleDrive-aryanrajagrawal@gmail.com/My Drive/Colab Notebooks/DAIC-WOZ/train_data/333_AUDIO.wav\n",
      "/Users/nidhigupta/Library/CloudStorage/GoogleDrive-aryanrajagrawal@gmail.com/My Drive/Colab Notebooks/DAIC-WOZ/train_data/336_AUDIO.wav\n",
      "/Users/nidhigupta/Library/CloudStorage/GoogleDrive-aryanrajagrawal@gmail.com/My Drive/Colab Notebooks/DAIC-WOZ/train_data/338_AUDIO.wav\n",
      "/Users/nidhigupta/Library/CloudStorage/GoogleDrive-aryanrajagrawal@gmail.com/My Drive/Colab Notebooks/DAIC-WOZ/train_data/339_AUDIO.wav\n",
      "/Users/nidhigupta/Library/CloudStorage/GoogleDrive-aryanrajagrawal@gmail.com/My Drive/Colab Notebooks/DAIC-WOZ/train_data/340_AUDIO.wav\n",
      "/Users/nidhigupta/Library/CloudStorage/GoogleDrive-aryanrajagrawal@gmail.com/My Drive/Colab Notebooks/DAIC-WOZ/train_data/341_AUDIO.wav\n",
      "/Users/nidhigupta/Library/CloudStorage/GoogleDrive-aryanrajagrawal@gmail.com/My Drive/Colab Notebooks/DAIC-WOZ/train_data/344_AUDIO.wav\n",
      "/Users/nidhigupta/Library/CloudStorage/GoogleDrive-aryanrajagrawal@gmail.com/My Drive/Colab Notebooks/DAIC-WOZ/train_data/345_AUDIO.wav\n",
      "/Users/nidhigupta/Library/CloudStorage/GoogleDrive-aryanrajagrawal@gmail.com/My Drive/Colab Notebooks/DAIC-WOZ/train_data/347_AUDIO.wav\n",
      "/Users/nidhigupta/Library/CloudStorage/GoogleDrive-aryanrajagrawal@gmail.com/My Drive/Colab Notebooks/DAIC-WOZ/train_data/348_AUDIO.wav\n",
      "/Users/nidhigupta/Library/CloudStorage/GoogleDrive-aryanrajagrawal@gmail.com/My Drive/Colab Notebooks/DAIC-WOZ/train_data/350_AUDIO.wav\n",
      "/Users/nidhigupta/Library/CloudStorage/GoogleDrive-aryanrajagrawal@gmail.com/My Drive/Colab Notebooks/DAIC-WOZ/train_data/351_AUDIO.wav\n",
      "/Users/nidhigupta/Library/CloudStorage/GoogleDrive-aryanrajagrawal@gmail.com/My Drive/Colab Notebooks/DAIC-WOZ/train_data/352_AUDIO.wav\n",
      "/Users/nidhigupta/Library/CloudStorage/GoogleDrive-aryanrajagrawal@gmail.com/My Drive/Colab Notebooks/DAIC-WOZ/train_data/353_AUDIO.wav\n",
      "/Users/nidhigupta/Library/CloudStorage/GoogleDrive-aryanrajagrawal@gmail.com/My Drive/Colab Notebooks/DAIC-WOZ/train_data/355_AUDIO.wav\n",
      "/Users/nidhigupta/Library/CloudStorage/GoogleDrive-aryanrajagrawal@gmail.com/My Drive/Colab Notebooks/DAIC-WOZ/train_data/356_AUDIO.wav\n",
      "/Users/nidhigupta/Library/CloudStorage/GoogleDrive-aryanrajagrawal@gmail.com/My Drive/Colab Notebooks/DAIC-WOZ/train_data/357_AUDIO.wav\n",
      "/Users/nidhigupta/Library/CloudStorage/GoogleDrive-aryanrajagrawal@gmail.com/My Drive/Colab Notebooks/DAIC-WOZ/train_data/358_AUDIO.wav\n",
      "/Users/nidhigupta/Library/CloudStorage/GoogleDrive-aryanrajagrawal@gmail.com/My Drive/Colab Notebooks/DAIC-WOZ/train_data/360_AUDIO.wav\n",
      "/Users/nidhigupta/Library/CloudStorage/GoogleDrive-aryanrajagrawal@gmail.com/My Drive/Colab Notebooks/DAIC-WOZ/train_data/363_AUDIO.wav\n",
      "/Users/nidhigupta/Library/CloudStorage/GoogleDrive-aryanrajagrawal@gmail.com/My Drive/Colab Notebooks/DAIC-WOZ/train_data/364_AUDIO.wav\n",
      "/Users/nidhigupta/Library/CloudStorage/GoogleDrive-aryanrajagrawal@gmail.com/My Drive/Colab Notebooks/DAIC-WOZ/train_data/366_AUDIO.wav\n",
      "/Users/nidhigupta/Library/CloudStorage/GoogleDrive-aryanrajagrawal@gmail.com/My Drive/Colab Notebooks/DAIC-WOZ/train_data/368_AUDIO.wav\n",
      "/Users/nidhigupta/Library/CloudStorage/GoogleDrive-aryanrajagrawal@gmail.com/My Drive/Colab Notebooks/DAIC-WOZ/train_data/369_AUDIO.wav\n",
      "/Users/nidhigupta/Library/CloudStorage/GoogleDrive-aryanrajagrawal@gmail.com/My Drive/Colab Notebooks/DAIC-WOZ/train_data/370_AUDIO.wav\n",
      "/Users/nidhigupta/Library/CloudStorage/GoogleDrive-aryanrajagrawal@gmail.com/My Drive/Colab Notebooks/DAIC-WOZ/train_data/371_AUDIO.wav\n",
      "/Users/nidhigupta/Library/CloudStorage/GoogleDrive-aryanrajagrawal@gmail.com/My Drive/Colab Notebooks/DAIC-WOZ/train_data/372_AUDIO.wav\n",
      "/Users/nidhigupta/Library/CloudStorage/GoogleDrive-aryanrajagrawal@gmail.com/My Drive/Colab Notebooks/DAIC-WOZ/train_data/374_AUDIO.wav\n",
      "/Users/nidhigupta/Library/CloudStorage/GoogleDrive-aryanrajagrawal@gmail.com/My Drive/Colab Notebooks/DAIC-WOZ/train_data/376_AUDIO.wav\n",
      "/Users/nidhigupta/Library/CloudStorage/GoogleDrive-aryanrajagrawal@gmail.com/My Drive/Colab Notebooks/DAIC-WOZ/train_data/379_AUDIO.wav\n",
      "/Users/nidhigupta/Library/CloudStorage/GoogleDrive-aryanrajagrawal@gmail.com/My Drive/Colab Notebooks/DAIC-WOZ/train_data/380_AUDIO.wav\n",
      "/Users/nidhigupta/Library/CloudStorage/GoogleDrive-aryanrajagrawal@gmail.com/My Drive/Colab Notebooks/DAIC-WOZ/train_data/383_AUDIO.wav\n",
      "/Users/nidhigupta/Library/CloudStorage/GoogleDrive-aryanrajagrawal@gmail.com/My Drive/Colab Notebooks/DAIC-WOZ/train_data/386_AUDIO.wav\n",
      "/Users/nidhigupta/Library/CloudStorage/GoogleDrive-aryanrajagrawal@gmail.com/My Drive/Colab Notebooks/DAIC-WOZ/train_data/391_AUDIO.wav\n",
      "/Users/nidhigupta/Library/CloudStorage/GoogleDrive-aryanrajagrawal@gmail.com/My Drive/Colab Notebooks/DAIC-WOZ/train_data/397_AUDIO.wav\n",
      "/Users/nidhigupta/Library/CloudStorage/GoogleDrive-aryanrajagrawal@gmail.com/My Drive/Colab Notebooks/DAIC-WOZ/train_data/400_AUDIO.wav\n",
      "/Users/nidhigupta/Library/CloudStorage/GoogleDrive-aryanrajagrawal@gmail.com/My Drive/Colab Notebooks/DAIC-WOZ/train_data/401_AUDIO.wav\n",
      "/Users/nidhigupta/Library/CloudStorage/GoogleDrive-aryanrajagrawal@gmail.com/My Drive/Colab Notebooks/DAIC-WOZ/train_data/402_AUDIO.wav\n",
      "/Users/nidhigupta/Library/CloudStorage/GoogleDrive-aryanrajagrawal@gmail.com/My Drive/Colab Notebooks/DAIC-WOZ/train_data/409_AUDIO.wav\n",
      "/Users/nidhigupta/Library/CloudStorage/GoogleDrive-aryanrajagrawal@gmail.com/My Drive/Colab Notebooks/DAIC-WOZ/train_data/412_AUDIO.wav\n",
      "/Users/nidhigupta/Library/CloudStorage/GoogleDrive-aryanrajagrawal@gmail.com/My Drive/Colab Notebooks/DAIC-WOZ/train_data/414_AUDIO.wav\n",
      "/Users/nidhigupta/Library/CloudStorage/GoogleDrive-aryanrajagrawal@gmail.com/My Drive/Colab Notebooks/DAIC-WOZ/train_data/415_AUDIO.wav\n",
      "/Users/nidhigupta/Library/CloudStorage/GoogleDrive-aryanrajagrawal@gmail.com/My Drive/Colab Notebooks/DAIC-WOZ/train_data/416_AUDIO.wav\n",
      "/Users/nidhigupta/Library/CloudStorage/GoogleDrive-aryanrajagrawal@gmail.com/My Drive/Colab Notebooks/DAIC-WOZ/train_data/419_AUDIO.wav\n"
     ]
    },
    {
     "name": "stdout",
     "output_type": "stream",
     "text": [
      "/Users/nidhigupta/Library/CloudStorage/GoogleDrive-aryanrajagrawal@gmail.com/My Drive/Colab Notebooks/DAIC-WOZ/train_data/423_AUDIO.wav\n",
      "/Users/nidhigupta/Library/CloudStorage/GoogleDrive-aryanrajagrawal@gmail.com/My Drive/Colab Notebooks/DAIC-WOZ/train_data/425_AUDIO.wav\n",
      "/Users/nidhigupta/Library/CloudStorage/GoogleDrive-aryanrajagrawal@gmail.com/My Drive/Colab Notebooks/DAIC-WOZ/train_data/426_AUDIO.wav\n",
      "/Users/nidhigupta/Library/CloudStorage/GoogleDrive-aryanrajagrawal@gmail.com/My Drive/Colab Notebooks/DAIC-WOZ/train_data/427_AUDIO.wav\n",
      "/Users/nidhigupta/Library/CloudStorage/GoogleDrive-aryanrajagrawal@gmail.com/My Drive/Colab Notebooks/DAIC-WOZ/train_data/428_AUDIO.wav\n",
      "/Users/nidhigupta/Library/CloudStorage/GoogleDrive-aryanrajagrawal@gmail.com/My Drive/Colab Notebooks/DAIC-WOZ/train_data/429_AUDIO.wav\n",
      "/Users/nidhigupta/Library/CloudStorage/GoogleDrive-aryanrajagrawal@gmail.com/My Drive/Colab Notebooks/DAIC-WOZ/train_data/430_AUDIO.wav\n",
      "/Users/nidhigupta/Library/CloudStorage/GoogleDrive-aryanrajagrawal@gmail.com/My Drive/Colab Notebooks/DAIC-WOZ/train_data/433_AUDIO.wav\n",
      "/Users/nidhigupta/Library/CloudStorage/GoogleDrive-aryanrajagrawal@gmail.com/My Drive/Colab Notebooks/DAIC-WOZ/train_data/434_AUDIO.wav\n",
      "/Users/nidhigupta/Library/CloudStorage/GoogleDrive-aryanrajagrawal@gmail.com/My Drive/Colab Notebooks/DAIC-WOZ/train_data/437_AUDIO.wav\n",
      "/Users/nidhigupta/Library/CloudStorage/GoogleDrive-aryanrajagrawal@gmail.com/My Drive/Colab Notebooks/DAIC-WOZ/train_data/441_AUDIO.wav\n",
      "/Users/nidhigupta/Library/CloudStorage/GoogleDrive-aryanrajagrawal@gmail.com/My Drive/Colab Notebooks/DAIC-WOZ/train_data/443_AUDIO.wav\n",
      "/Users/nidhigupta/Library/CloudStorage/GoogleDrive-aryanrajagrawal@gmail.com/My Drive/Colab Notebooks/DAIC-WOZ/train_data/444_AUDIO.wav\n",
      "/Users/nidhigupta/Library/CloudStorage/GoogleDrive-aryanrajagrawal@gmail.com/My Drive/Colab Notebooks/DAIC-WOZ/train_data/445_AUDIO.wav\n",
      "/Users/nidhigupta/Library/CloudStorage/GoogleDrive-aryanrajagrawal@gmail.com/My Drive/Colab Notebooks/DAIC-WOZ/train_data/446_AUDIO.wav\n",
      "/Users/nidhigupta/Library/CloudStorage/GoogleDrive-aryanrajagrawal@gmail.com/My Drive/Colab Notebooks/DAIC-WOZ/train_data/447_AUDIO.wav\n",
      "/Users/nidhigupta/Library/CloudStorage/GoogleDrive-aryanrajagrawal@gmail.com/My Drive/Colab Notebooks/DAIC-WOZ/train_data/448_AUDIO.wav\n",
      "/Users/nidhigupta/Library/CloudStorage/GoogleDrive-aryanrajagrawal@gmail.com/My Drive/Colab Notebooks/DAIC-WOZ/train_data/449_AUDIO.wav\n",
      "/Users/nidhigupta/Library/CloudStorage/GoogleDrive-aryanrajagrawal@gmail.com/My Drive/Colab Notebooks/DAIC-WOZ/train_data/454_AUDIO.wav\n",
      "/Users/nidhigupta/Library/CloudStorage/GoogleDrive-aryanrajagrawal@gmail.com/My Drive/Colab Notebooks/DAIC-WOZ/train_data/455_AUDIO.wav\n",
      "/Users/nidhigupta/Library/CloudStorage/GoogleDrive-aryanrajagrawal@gmail.com/My Drive/Colab Notebooks/DAIC-WOZ/train_data/456_AUDIO.wav\n",
      "/Users/nidhigupta/Library/CloudStorage/GoogleDrive-aryanrajagrawal@gmail.com/My Drive/Colab Notebooks/DAIC-WOZ/train_data/457_AUDIO.wav\n",
      "/Users/nidhigupta/Library/CloudStorage/GoogleDrive-aryanrajagrawal@gmail.com/My Drive/Colab Notebooks/DAIC-WOZ/train_data/459_AUDIO.wav\n",
      "/Users/nidhigupta/Library/CloudStorage/GoogleDrive-aryanrajagrawal@gmail.com/My Drive/Colab Notebooks/DAIC-WOZ/train_data/463_AUDIO.wav\n",
      "/Users/nidhigupta/Library/CloudStorage/GoogleDrive-aryanrajagrawal@gmail.com/My Drive/Colab Notebooks/DAIC-WOZ/train_data/464_AUDIO.wav\n",
      "/Users/nidhigupta/Library/CloudStorage/GoogleDrive-aryanrajagrawal@gmail.com/My Drive/Colab Notebooks/DAIC-WOZ/train_data/468_AUDIO.wav\n",
      "/Users/nidhigupta/Library/CloudStorage/GoogleDrive-aryanrajagrawal@gmail.com/My Drive/Colab Notebooks/DAIC-WOZ/train_data/471_AUDIO.wav\n",
      "/Users/nidhigupta/Library/CloudStorage/GoogleDrive-aryanrajagrawal@gmail.com/My Drive/Colab Notebooks/DAIC-WOZ/train_data/474_AUDIO.wav\n",
      "/Users/nidhigupta/Library/CloudStorage/GoogleDrive-aryanrajagrawal@gmail.com/My Drive/Colab Notebooks/DAIC-WOZ/train_data/475_AUDIO.wav\n",
      "/Users/nidhigupta/Library/CloudStorage/GoogleDrive-aryanrajagrawal@gmail.com/My Drive/Colab Notebooks/DAIC-WOZ/train_data/478_AUDIO.wav\n",
      "/Users/nidhigupta/Library/CloudStorage/GoogleDrive-aryanrajagrawal@gmail.com/My Drive/Colab Notebooks/DAIC-WOZ/train_data/485_AUDIO.wav\n",
      "/Users/nidhigupta/Library/CloudStorage/GoogleDrive-aryanrajagrawal@gmail.com/My Drive/Colab Notebooks/DAIC-WOZ/train_data/486_AUDIO.wav\n",
      "/Users/nidhigupta/Library/CloudStorage/GoogleDrive-aryanrajagrawal@gmail.com/My Drive/Colab Notebooks/DAIC-WOZ/train_data/487_AUDIO.wav\n",
      "/Users/nidhigupta/Library/CloudStorage/GoogleDrive-aryanrajagrawal@gmail.com/My Drive/Colab Notebooks/DAIC-WOZ/train_data/488_AUDIO.wav\n",
      "/Users/nidhigupta/Library/CloudStorage/GoogleDrive-aryanrajagrawal@gmail.com/My Drive/Colab Notebooks/DAIC-WOZ/train_data/491_AUDIO.wav\n"
     ]
    }
   ],
   "source": [
    "#get the features of train location files\n",
    "y = df_train['PHQ8_Binary']\n",
    "x = df_train['Participant_ID']\n",
    "\n",
    "\n",
    "features = []\n",
    "\n",
    "\n",
    "for index, audio_num in enumerate(x):\n",
    "    if audio_num not in prob:\n",
    "        try:\n",
    "            fn = google_drive_path+train_location+str(audio_num)+'_AUDIO.wav'\n",
    "            print(fn)\n",
    "            features.append([audio_num,extract_features_librosa(fn),y[index]])\n",
    "        except Exception as e:\n",
    "            print(e)\n",
    "        \"\"\" librosa_audio, librosa_sample_rate = librosa.load(fn)\n",
    "        scipy_sample_rate, scipy_audio = wav.read(fn) \"\"\"\n",
    "\n",
    "featuresdf = pd.DataFrame(features,columns = ['Participant_ID','feature','PHQ8_Binary'])\n",
    "featuresdf.to_csv('librosa_mfcc_feature_train.csv')\n",
    "#featuresdf.to_csv('librosa_mfcc_feature.csv')"
   ]
  },
  {
   "cell_type": "code",
   "execution_count": 8,
   "id": "26245e55",
   "metadata": {},
   "outputs": [],
   "source": [
    "# to convert X (features) to np array\n",
    "def remove_brackets(s):\n",
    "    new_s = s[1:-1]\n",
    "    return new_s\n",
    "\n",
    "def str_to_np(X):\n",
    "    new_X = []\n",
    "    for i in range(len(X)):\n",
    "        x_i = np.fromstring(X.iloc[i], dtype=float, sep='\\t')\n",
    "        new_X.append(x_i)\n",
    "    return np.stack( new_X, axis=0 )"
   ]
  },
  {
   "cell_type": "code",
   "execution_count": 10,
   "id": "c671811d",
   "metadata": {},
   "outputs": [
    {
     "name": "stdout",
     "output_type": "stream",
     "text": [
      "(122, 4)\n",
      "(122, 4)\n"
     ]
    }
   ],
   "source": [
    "df1 = pd.read_csv(\"librosa_mfcc_feature_dev.csv\")\n",
    "df2 = pd.read_csv('librosa_mfcc_feature_train.csv')\n",
    "\n",
    "# Concatenate the dataframes vertically\n",
    "train_data = pd.concat([df1, df2], axis=0)\n",
    "print(train_data.shape)\n",
    "\n",
    "train_data['feature'] = train_data['feature'].apply(remove_brackets)\n",
    "\n",
    "print(train_data.shape) \n",
    "X = train_data['feature']\n",
    "X_train = str_to_np(X)\n",
    "#print(X)\n",
    "y_train= train_data['PHQ8_Binary'].values"
   ]
  },
  {
   "cell_type": "code",
   "execution_count": 54,
   "id": "6d00b94e",
   "metadata": {},
   "outputs": [],
   "source": [
    "df_test = pd.read_csv(google_drive_path+'full_test_split.csv',delimiter=',',encoding='utf-8')\n",
    "df_test = df_test.dropna(subset=['Participant_ID'])\n",
    "df_test['Participant_ID'] = df_test['Participant_ID'].astype(int).astype(str)\n",
    "df_test['PHQ8_Binary'] = df_test['PHQ8_Binary'].astype(int).astype(str)"
   ]
  },
  {
   "cell_type": "code",
   "execution_count": 55,
   "id": "1de73132",
   "metadata": {},
   "outputs": [
    {
     "name": "stdout",
     "output_type": "stream",
     "text": [
      "Participant_ID     object\n",
      "PHQ8_Binary        object\n",
      "PHQ_Score         float64\n",
      "Gender            float64\n",
      "dtype: object\n"
     ]
    }
   ],
   "source": [
    "column_types = df_test.dtypes\n",
    "print(column_types)"
   ]
  },
  {
   "cell_type": "code",
   "execution_count": 56,
   "id": "518ec56a",
   "metadata": {},
   "outputs": [
    {
     "data": {
      "text/html": [
       "<div>\n",
       "<style scoped>\n",
       "    .dataframe tbody tr th:only-of-type {\n",
       "        vertical-align: middle;\n",
       "    }\n",
       "\n",
       "    .dataframe tbody tr th {\n",
       "        vertical-align: top;\n",
       "    }\n",
       "\n",
       "    .dataframe thead th {\n",
       "        text-align: right;\n",
       "    }\n",
       "</style>\n",
       "<table border=\"1\" class=\"dataframe\">\n",
       "  <thead>\n",
       "    <tr style=\"text-align: right;\">\n",
       "      <th></th>\n",
       "      <th>Participant_ID</th>\n",
       "      <th>PHQ8_Binary</th>\n",
       "      <th>PHQ_Score</th>\n",
       "      <th>Gender</th>\n",
       "    </tr>\n",
       "  </thead>\n",
       "  <tbody>\n",
       "    <tr>\n",
       "      <th>1</th>\n",
       "      <td>300</td>\n",
       "      <td>0</td>\n",
       "      <td>2.0</td>\n",
       "      <td>1.0</td>\n",
       "    </tr>\n",
       "    <tr>\n",
       "      <th>3</th>\n",
       "      <td>301</td>\n",
       "      <td>0</td>\n",
       "      <td>3.0</td>\n",
       "      <td>1.0</td>\n",
       "    </tr>\n",
       "    <tr>\n",
       "      <th>5</th>\n",
       "      <td>306</td>\n",
       "      <td>0</td>\n",
       "      <td>0.0</td>\n",
       "      <td>0.0</td>\n",
       "    </tr>\n",
       "    <tr>\n",
       "      <th>7</th>\n",
       "      <td>308</td>\n",
       "      <td>1</td>\n",
       "      <td>22.0</td>\n",
       "      <td>0.0</td>\n",
       "    </tr>\n",
       "    <tr>\n",
       "      <th>9</th>\n",
       "      <td>309</td>\n",
       "      <td>1</td>\n",
       "      <td>15.0</td>\n",
       "      <td>1.0</td>\n",
       "    </tr>\n",
       "  </tbody>\n",
       "</table>\n",
       "</div>"
      ],
      "text/plain": [
       "  Participant_ID PHQ8_Binary  PHQ_Score  Gender\n",
       "1            300           0        2.0     1.0\n",
       "3            301           0        3.0     1.0\n",
       "5            306           0        0.0     0.0\n",
       "7            308           1       22.0     0.0\n",
       "9            309           1       15.0     1.0"
      ]
     },
     "execution_count": 56,
     "metadata": {},
     "output_type": "execute_result"
    }
   ],
   "source": [
    "df_test.head()"
   ]
  },
  {
   "cell_type": "code",
   "execution_count": 57,
   "id": "9d4cb774",
   "metadata": {},
   "outputs": [
    {
     "data": {
      "text/html": [
       "<div>\n",
       "<style scoped>\n",
       "    .dataframe tbody tr th:only-of-type {\n",
       "        vertical-align: middle;\n",
       "    }\n",
       "\n",
       "    .dataframe tbody tr th {\n",
       "        vertical-align: top;\n",
       "    }\n",
       "\n",
       "    .dataframe thead th {\n",
       "        text-align: right;\n",
       "    }\n",
       "</style>\n",
       "<table border=\"1\" class=\"dataframe\">\n",
       "  <thead>\n",
       "    <tr style=\"text-align: right;\">\n",
       "      <th></th>\n",
       "      <th>Participant_ID</th>\n",
       "      <th>PHQ8_Binary</th>\n",
       "      <th>PHQ8_Score</th>\n",
       "      <th>Gender</th>\n",
       "      <th>PHQ8_NoInterest</th>\n",
       "      <th>PHQ8_Depressed</th>\n",
       "      <th>PHQ8_Sleep</th>\n",
       "      <th>PHQ8_Tired</th>\n",
       "      <th>PHQ8_Appetite</th>\n",
       "      <th>PHQ8_Failure</th>\n",
       "      <th>PHQ8_Concentrating</th>\n",
       "      <th>PHQ8_Moving</th>\n",
       "    </tr>\n",
       "  </thead>\n",
       "  <tbody>\n",
       "    <tr>\n",
       "      <th>0</th>\n",
       "      <td>303</td>\n",
       "      <td>0</td>\n",
       "      <td>0</td>\n",
       "      <td>0</td>\n",
       "      <td>0</td>\n",
       "      <td>0</td>\n",
       "      <td>0.0</td>\n",
       "      <td>0</td>\n",
       "      <td>0</td>\n",
       "      <td>0</td>\n",
       "      <td>0</td>\n",
       "      <td>0</td>\n",
       "    </tr>\n",
       "    <tr>\n",
       "      <th>1</th>\n",
       "      <td>304</td>\n",
       "      <td>0</td>\n",
       "      <td>6</td>\n",
       "      <td>0</td>\n",
       "      <td>0</td>\n",
       "      <td>1</td>\n",
       "      <td>1.0</td>\n",
       "      <td>2</td>\n",
       "      <td>2</td>\n",
       "      <td>0</td>\n",
       "      <td>0</td>\n",
       "      <td>0</td>\n",
       "    </tr>\n",
       "    <tr>\n",
       "      <th>2</th>\n",
       "      <td>305</td>\n",
       "      <td>0</td>\n",
       "      <td>7</td>\n",
       "      <td>1</td>\n",
       "      <td>0</td>\n",
       "      <td>1</td>\n",
       "      <td>1.0</td>\n",
       "      <td>2</td>\n",
       "      <td>2</td>\n",
       "      <td>1</td>\n",
       "      <td>0</td>\n",
       "      <td>0</td>\n",
       "    </tr>\n",
       "    <tr>\n",
       "      <th>3</th>\n",
       "      <td>310</td>\n",
       "      <td>0</td>\n",
       "      <td>4</td>\n",
       "      <td>1</td>\n",
       "      <td>1</td>\n",
       "      <td>1</td>\n",
       "      <td>0.0</td>\n",
       "      <td>0</td>\n",
       "      <td>0</td>\n",
       "      <td>1</td>\n",
       "      <td>1</td>\n",
       "      <td>0</td>\n",
       "    </tr>\n",
       "    <tr>\n",
       "      <th>4</th>\n",
       "      <td>312</td>\n",
       "      <td>0</td>\n",
       "      <td>2</td>\n",
       "      <td>1</td>\n",
       "      <td>0</td>\n",
       "      <td>0</td>\n",
       "      <td>1.0</td>\n",
       "      <td>1</td>\n",
       "      <td>0</td>\n",
       "      <td>0</td>\n",
       "      <td>0</td>\n",
       "      <td>0</td>\n",
       "    </tr>\n",
       "  </tbody>\n",
       "</table>\n",
       "</div>"
      ],
      "text/plain": [
       "   Participant_ID  PHQ8_Binary  PHQ8_Score  Gender  PHQ8_NoInterest  \\\n",
       "0             303            0           0       0                0   \n",
       "1             304            0           6       0                0   \n",
       "2             305            0           7       1                0   \n",
       "3             310            0           4       1                1   \n",
       "4             312            0           2       1                0   \n",
       "\n",
       "   PHQ8_Depressed  PHQ8_Sleep  PHQ8_Tired  PHQ8_Appetite  PHQ8_Failure  \\\n",
       "0               0         0.0           0              0             0   \n",
       "1               1         1.0           2              2             0   \n",
       "2               1         1.0           2              2             1   \n",
       "3               1         0.0           0              0             1   \n",
       "4               0         1.0           1              0             0   \n",
       "\n",
       "   PHQ8_Concentrating  PHQ8_Moving  \n",
       "0                   0            0  \n",
       "1                   0            0  \n",
       "2                   0            0  \n",
       "3                   1            0  \n",
       "4                   0            0  "
      ]
     },
     "execution_count": 57,
     "metadata": {},
     "output_type": "execute_result"
    }
   ],
   "source": [
    "df_train.head()"
   ]
  },
  {
   "cell_type": "code",
   "execution_count": 58,
   "id": "1321b627",
   "metadata": {},
   "outputs": [
    {
     "name": "stdout",
     "output_type": "stream",
     "text": [
      "/Users/nidhigupta/Library/CloudStorage/GoogleDrive-aryanrajagrawal@gmail.com/My Drive/Colab Notebooks/DAIC-WOZ/test_data/300_AUDIO.wav\n",
      "0\n",
      "/Users/nidhigupta/Library/CloudStorage/GoogleDrive-aryanrajagrawal@gmail.com/My Drive/Colab Notebooks/DAIC-WOZ/test_data/301_AUDIO.wav\n",
      "/Users/nidhigupta/Library/CloudStorage/GoogleDrive-aryanrajagrawal@gmail.com/My Drive/Colab Notebooks/DAIC-WOZ/test_data/306_AUDIO.wav\n",
      "2\n",
      "/Users/nidhigupta/Library/CloudStorage/GoogleDrive-aryanrajagrawal@gmail.com/My Drive/Colab Notebooks/DAIC-WOZ/test_data/308_AUDIO.wav\n",
      "/Users/nidhigupta/Library/CloudStorage/GoogleDrive-aryanrajagrawal@gmail.com/My Drive/Colab Notebooks/DAIC-WOZ/test_data/309_AUDIO.wav\n",
      "4\n",
      "/Users/nidhigupta/Library/CloudStorage/GoogleDrive-aryanrajagrawal@gmail.com/My Drive/Colab Notebooks/DAIC-WOZ/test_data/311_AUDIO.wav\n",
      "/Users/nidhigupta/Library/CloudStorage/GoogleDrive-aryanrajagrawal@gmail.com/My Drive/Colab Notebooks/DAIC-WOZ/test_data/314_AUDIO.wav\n",
      "6\n",
      "/Users/nidhigupta/Library/CloudStorage/GoogleDrive-aryanrajagrawal@gmail.com/My Drive/Colab Notebooks/DAIC-WOZ/test_data/323_AUDIO.wav\n",
      "/Users/nidhigupta/Library/CloudStorage/GoogleDrive-aryanrajagrawal@gmail.com/My Drive/Colab Notebooks/DAIC-WOZ/test_data/329_AUDIO.wav\n",
      "8\n",
      "/Users/nidhigupta/Library/CloudStorage/GoogleDrive-aryanrajagrawal@gmail.com/My Drive/Colab Notebooks/DAIC-WOZ/test_data/332_AUDIO.wav\n",
      "/Users/nidhigupta/Library/CloudStorage/GoogleDrive-aryanrajagrawal@gmail.com/My Drive/Colab Notebooks/DAIC-WOZ/test_data/334_AUDIO.wav\n",
      "10\n",
      "/Users/nidhigupta/Library/CloudStorage/GoogleDrive-aryanrajagrawal@gmail.com/My Drive/Colab Notebooks/DAIC-WOZ/test_data/337_AUDIO.wav\n",
      "/Users/nidhigupta/Library/CloudStorage/GoogleDrive-aryanrajagrawal@gmail.com/My Drive/Colab Notebooks/DAIC-WOZ/test_data/349_AUDIO.wav\n",
      "12\n",
      "/Users/nidhigupta/Library/CloudStorage/GoogleDrive-aryanrajagrawal@gmail.com/My Drive/Colab Notebooks/DAIC-WOZ/test_data/354_AUDIO.wav\n",
      "/Users/nidhigupta/Library/CloudStorage/GoogleDrive-aryanrajagrawal@gmail.com/My Drive/Colab Notebooks/DAIC-WOZ/test_data/359_AUDIO.wav\n",
      "14\n",
      "/Users/nidhigupta/Library/CloudStorage/GoogleDrive-aryanrajagrawal@gmail.com/My Drive/Colab Notebooks/DAIC-WOZ/test_data/361_AUDIO.wav\n",
      "/Users/nidhigupta/Library/CloudStorage/GoogleDrive-aryanrajagrawal@gmail.com/My Drive/Colab Notebooks/DAIC-WOZ/test_data/365_AUDIO.wav\n",
      "16\n",
      "/Users/nidhigupta/Library/CloudStorage/GoogleDrive-aryanrajagrawal@gmail.com/My Drive/Colab Notebooks/DAIC-WOZ/test_data/373_AUDIO.wav\n",
      "/Users/nidhigupta/Library/CloudStorage/GoogleDrive-aryanrajagrawal@gmail.com/My Drive/Colab Notebooks/DAIC-WOZ/test_data/378_AUDIO.wav\n",
      "18\n",
      "/Users/nidhigupta/Library/CloudStorage/GoogleDrive-aryanrajagrawal@gmail.com/My Drive/Colab Notebooks/DAIC-WOZ/test_data/384_AUDIO.wav\n",
      "/Users/nidhigupta/Library/CloudStorage/GoogleDrive-aryanrajagrawal@gmail.com/My Drive/Colab Notebooks/DAIC-WOZ/test_data/387_AUDIO.wav\n",
      "20\n",
      "/Users/nidhigupta/Library/CloudStorage/GoogleDrive-aryanrajagrawal@gmail.com/My Drive/Colab Notebooks/DAIC-WOZ/test_data/396_AUDIO.wav\n",
      "/Users/nidhigupta/Library/CloudStorage/GoogleDrive-aryanrajagrawal@gmail.com/My Drive/Colab Notebooks/DAIC-WOZ/test_data/399_AUDIO.wav\n",
      "22\n",
      "/Users/nidhigupta/Library/CloudStorage/GoogleDrive-aryanrajagrawal@gmail.com/My Drive/Colab Notebooks/DAIC-WOZ/test_data/405_AUDIO.wav\n",
      "/Users/nidhigupta/Library/CloudStorage/GoogleDrive-aryanrajagrawal@gmail.com/My Drive/Colab Notebooks/DAIC-WOZ/test_data/407_AUDIO.wav\n",
      "24\n",
      "/Users/nidhigupta/Library/CloudStorage/GoogleDrive-aryanrajagrawal@gmail.com/My Drive/Colab Notebooks/DAIC-WOZ/test_data/408_AUDIO.wav\n",
      "/Users/nidhigupta/Library/CloudStorage/GoogleDrive-aryanrajagrawal@gmail.com/My Drive/Colab Notebooks/DAIC-WOZ/test_data/410_AUDIO.wav\n",
      "26\n",
      "/Users/nidhigupta/Library/CloudStorage/GoogleDrive-aryanrajagrawal@gmail.com/My Drive/Colab Notebooks/DAIC-WOZ/test_data/411_AUDIO.wav\n",
      "/Users/nidhigupta/Library/CloudStorage/GoogleDrive-aryanrajagrawal@gmail.com/My Drive/Colab Notebooks/DAIC-WOZ/test_data/421_AUDIO.wav\n",
      "28\n",
      "/Users/nidhigupta/Library/CloudStorage/GoogleDrive-aryanrajagrawal@gmail.com/My Drive/Colab Notebooks/DAIC-WOZ/test_data/424_AUDIO.wav\n",
      "/Users/nidhigupta/Library/CloudStorage/GoogleDrive-aryanrajagrawal@gmail.com/My Drive/Colab Notebooks/DAIC-WOZ/test_data/431_AUDIO.wav\n",
      "30\n",
      "/Users/nidhigupta/Library/CloudStorage/GoogleDrive-aryanrajagrawal@gmail.com/My Drive/Colab Notebooks/DAIC-WOZ/test_data/432_AUDIO.wav\n",
      "/Users/nidhigupta/Library/CloudStorage/GoogleDrive-aryanrajagrawal@gmail.com/My Drive/Colab Notebooks/DAIC-WOZ/test_data/435_AUDIO.wav\n",
      "32\n",
      "/Users/nidhigupta/Library/CloudStorage/GoogleDrive-aryanrajagrawal@gmail.com/My Drive/Colab Notebooks/DAIC-WOZ/test_data/438_AUDIO.wav\n",
      "/Users/nidhigupta/Library/CloudStorage/GoogleDrive-aryanrajagrawal@gmail.com/My Drive/Colab Notebooks/DAIC-WOZ/test_data/442_AUDIO.wav\n",
      "34\n",
      "/Users/nidhigupta/Library/CloudStorage/GoogleDrive-aryanrajagrawal@gmail.com/My Drive/Colab Notebooks/DAIC-WOZ/test_data/450_AUDIO.wav\n",
      "/Users/nidhigupta/Library/CloudStorage/GoogleDrive-aryanrajagrawal@gmail.com/My Drive/Colab Notebooks/DAIC-WOZ/test_data/452_AUDIO.wav\n",
      "36\n",
      "/Users/nidhigupta/Library/CloudStorage/GoogleDrive-aryanrajagrawal@gmail.com/My Drive/Colab Notebooks/DAIC-WOZ/test_data/453_AUDIO.wav\n",
      "/Users/nidhigupta/Library/CloudStorage/GoogleDrive-aryanrajagrawal@gmail.com/My Drive/Colab Notebooks/DAIC-WOZ/test_data/461_AUDIO.wav\n",
      "38\n",
      "/Users/nidhigupta/Library/CloudStorage/GoogleDrive-aryanrajagrawal@gmail.com/My Drive/Colab Notebooks/DAIC-WOZ/test_data/462_AUDIO.wav\n",
      "/Users/nidhigupta/Library/CloudStorage/GoogleDrive-aryanrajagrawal@gmail.com/My Drive/Colab Notebooks/DAIC-WOZ/test_data/465_AUDIO.wav\n",
      "40\n",
      "/Users/nidhigupta/Library/CloudStorage/GoogleDrive-aryanrajagrawal@gmail.com/My Drive/Colab Notebooks/DAIC-WOZ/test_data/466_AUDIO.wav\n",
      "/Users/nidhigupta/Library/CloudStorage/GoogleDrive-aryanrajagrawal@gmail.com/My Drive/Colab Notebooks/DAIC-WOZ/test_data/467_AUDIO.wav\n",
      "42\n",
      "/Users/nidhigupta/Library/CloudStorage/GoogleDrive-aryanrajagrawal@gmail.com/My Drive/Colab Notebooks/DAIC-WOZ/test_data/469_AUDIO.wav\n",
      "/Users/nidhigupta/Library/CloudStorage/GoogleDrive-aryanrajagrawal@gmail.com/My Drive/Colab Notebooks/DAIC-WOZ/test_data/470_AUDIO.wav\n",
      "44\n",
      "/Users/nidhigupta/Library/CloudStorage/GoogleDrive-aryanrajagrawal@gmail.com/My Drive/Colab Notebooks/DAIC-WOZ/test_data/480_AUDIO.wav\n",
      "/Users/nidhigupta/Library/CloudStorage/GoogleDrive-aryanrajagrawal@gmail.com/My Drive/Colab Notebooks/DAIC-WOZ/test_data/481_AUDIO.wav\n",
      "46\n"
     ]
    }
   ],
   "source": [
    "#get the features of test location files\n",
    "y = df_test['PHQ8_Binary']\n",
    "x = df_test['Participant_ID']\n",
    "\n",
    "\n",
    "features = []\n",
    "\n",
    "\n",
    "for index, audio_num in enumerate(x):\n",
    "    if audio_num not in prob:\n",
    "        try:\n",
    "            fn = google_drive_path+test_location+str(audio_num)+'_AUDIO.wav'\n",
    "            print(fn)\n",
    "            features.append([audio_num,extract_features_librosa(fn),y[index]])\n",
    "        except Exception as e:\n",
    "            print(e)\n",
    "        \"\"\" librosa_audio, librosa_sample_rate = librosa.load(fn)\n",
    "        scipy_sample_rate, scipy_audio = wav.read(fn) \"\"\"\n",
    "\n",
    "featuresdf = pd.DataFrame(features,columns = ['Participant_ID','feature','PHQ8_Binary'])\n",
    "featuresdf.to_csv('librosa_mfcc_feature_test.csv')\n",
    "#featuresdf.to_csv('librosa_mfcc_feature.csv')"
   ]
  },
  {
   "cell_type": "code",
   "execution_count": 63,
   "id": "19672f60",
   "metadata": {},
   "outputs": [
    {
     "name": "stdout",
     "output_type": "stream",
     "text": [
      "(23, 4)\n",
      "(23, 4)\n"
     ]
    }
   ],
   "source": [
    "test_data = pd.read_csv(\"librosa_mfcc_feature_test.csv\")\n",
    "print(test_data.shape)\n",
    "\n",
    "test_data['feature'] = test_data['feature'].apply(remove_brackets)\n",
    "\n",
    "print(test_data.shape) \n",
    "X = test_data['feature']\n",
    "X_test = str_to_np(X)\n",
    "#print(X)\n",
    "y_test = test_data['PHQ8_Binary'].values"
   ]
  },
  {
   "cell_type": "markdown",
   "id": "ce0a5705",
   "metadata": {},
   "source": [
    "## Evaluate Model on Testing Set"
   ]
  },
  {
   "cell_type": "code",
   "execution_count": 62,
   "id": "8ed77142",
   "metadata": {},
   "outputs": [],
   "source": [
    "def evaluate_on_test_set(y_test, y_pred):\n",
    "    print(y_pred)\n",
    "    print(y_test)\n",
    "    \n",
    "    # Calculate AUC\n",
    "    print(\"AUC is: \", roc_auc_score(y_test, y_pred))\n",
    "\n",
    "    # print out recall and precision\n",
    "    print(classification_report(y_test, y_pred))\n",
    "\n",
    "    # print out confusion matrix\n",
    "    print(\"Confusion Matrix: \\n\", confusion_matrix(y_test, y_pred))\n",
    "\n",
    "    # # calculate points for ROC curve\n",
    "    fpr, tpr, thresholds = roc_curve(y_test, y_pred)\n",
    "\n",
    "    # Plot ROC curve\n",
    "    plt.plot(fpr, tpr, label='ROC curve (area = %0.3f)' % roc_auc_score(y_test, y_pred))\n",
    "    plt.plot([0, 1], [0, 1], 'k--')\n",
    "    plt.ylim([0.0, 1.0])\n",
    "    plt.xlabel('False Positive Rate')\n",
    "    plt.ylabel('True Positive Rate')\n",
    "    plt.title('Receiver Operating Characteristic')"
   ]
  },
  {
   "cell_type": "code",
   "execution_count": 68,
   "id": "8ce2b618",
   "metadata": {},
   "outputs": [],
   "source": [
    "def evaluate_model(model):\n",
    "    model.fit(X_train, y_train)\n",
    "    #y_pred = model.predict(X_test)\n",
    "    #evaluate_on_test_set(y_test, y_pred)\n",
    "    \n",
    "    y_pred = model.predict(X_train)\n",
    "    evaluate_on_test_set(y_train, y_pred)\n",
    "    \n",
    "    return model"
   ]
  },
  {
   "cell_type": "markdown",
   "id": "db5d996c",
   "metadata": {},
   "source": [
    "## KCross"
   ]
  },
  {
   "cell_type": "code",
   "execution_count": 69,
   "id": "12eca681",
   "metadata": {},
   "outputs": [],
   "source": [
    "RANDOM_STATE = 42\n",
    "\n",
    "def k_cross(input_model, X=X_train, y=y_train, k=4, n=3, random_state=RANDOM_STATE):\n",
    "    f1_scores = []\n",
    "    recall_scores = []\n",
    "    rkf = RepeatedKFold(n_splits=k, n_repeats=n, random_state=RANDOM_STATE)\n",
    "        \n",
    "    for train_index, val_index in rkf.split(X):\n",
    "        X_train, X_val = X[train_index], X[val_index]\n",
    "        y_train, y_val = y[train_index], y[val_index]\n",
    "                \n",
    "        model = clone(input_model) # prevents incremental fitting\n",
    "        model.fit(X_train, y_train) \n",
    "        \n",
    "        y_pred = model.predict(X_val)\n",
    "        f1 = f1_score(y_val, y_pred)\n",
    "        f1_scores.append(f1)\n",
    "        recall = recall_score(y_val, y_pred)\n",
    "        recall_scores.append(recall)\n",
    "        \n",
    "    return f1_scores, recall_scores"
   ]
  },
  {
   "cell_type": "markdown",
   "id": "009248cf",
   "metadata": {},
   "source": [
    "# Implement Models"
   ]
  },
  {
   "cell_type": "markdown",
   "id": "42394b36",
   "metadata": {},
   "source": [
    "### 1. Gausian Naive Bayes"
   ]
  },
  {
   "cell_type": "code",
   "execution_count": 70,
   "id": "f68a06c4",
   "metadata": {},
   "outputs": [
    {
     "name": "stdout",
     "output_type": "stream",
     "text": [
      "f1 mean score: 0.3451906302331999\n",
      "recall mean score: 0.3209806397306397\n",
      "[0 0 0 1 0 0 0 0 1 0 1 0 0 0 1 0 0 0 0 0 1 1 0 0 1 0 0 1 0 0 0 0 0 0 0 0 0\n",
      " 0 1 0 1 0 0 0 0 0 0 0 0 0 1 0 1 0 1 1 1 0 0 0 0 1 0 0 0 0 1 0 0 1 0 1 0 0\n",
      " 0 1 1 0 0 1 1 0 0 1 1 0 0 0 1 0 0 0 0 0 0 0 0 1 0 0 0 0 0 0 0 0 0 0 0 0 0\n",
      " 0 0 0 0 0 1 0 0 1 0 0]\n",
      "[0 0 0 1 1 1 1 1 0 0 0 0 1 0 1 0 0 1 0 0 0 0 0 1 0 0 0 0 0 0 0 0 0 1 1 1 0\n",
      " 0 1 0 0 0 1 0 0 1 1 0 0 1 1 1 1 1 1 1 1 1 1 0 0 0 0 0 0 0 0 0 0 1 0 1 0 1\n",
      " 0 1 0 0 0 0 1 0 1 1 0 0 0 0 0 1 0 0 0 0 1 0 0 1 0 0 0 0 0 1 0 0 0 0 0 1 0\n",
      " 0 0 0 0 0 0 0 0 0 0 0]\n",
      "AUC is:  0.5949248120300752\n",
      "              precision    recall  f1-score   support\n",
      "\n",
      "           0       0.74      0.82      0.78        84\n",
      "           1       0.48      0.37      0.42        38\n",
      "\n",
      "    accuracy                           0.68       122\n",
      "   macro avg       0.61      0.59      0.60       122\n",
      "weighted avg       0.66      0.68      0.67       122\n",
      "\n",
      "Confusion Matrix: \n",
      " [[69 15]\n",
      " [24 14]]\n"
     ]
    },
    {
     "data": {
      "text/plain": [
       "GaussianNB()"
      ]
     },
     "execution_count": 70,
     "metadata": {},
     "output_type": "execute_result"
    },
    {
     "data": {
      "image/png": "[encoded data removed]",
      "text/plain": [
       "<Figure size 432x288 with 1 Axes>"
      ]
     },
     "metadata": {
      "needs_background": "light"
     },
     "output_type": "display_data"
    }
   ],
   "source": [
    "nb_model = GaussianNB()\n",
    "\n",
    "f1_scores, recall_scores = k_cross(nb_model)\n",
    "\n",
    "print(f\"f1 mean score: {np.mean(f1_scores)}\")\n",
    "print(f\"recall mean score: {np.mean(recall_scores)}\")\n",
    "\n",
    "evaluate_model(nb_model)"
   ]
  },
  {
   "cell_type": "markdown",
   "id": "804d7cbb",
   "metadata": {},
   "source": [
    "### 2. Logistic Regression"
   ]
  },
  {
   "cell_type": "code",
   "execution_count": 71,
   "id": "0ec06c74",
   "metadata": {},
   "outputs": [
    {
     "name": "stdout",
     "output_type": "stream",
     "text": [
      "best scores: f1 = 0.29606885417643936, recall = 0.31230459355459356\n",
      "[0 0 0 0 1 0 0 0 0 0 1 0 0 0 0 0 0 0 0 1 0 0 0 1 0 0 0 0 1 0 0 0 0 0 1 1 0\n",
      " 0 0 0 0 0 1 0 0 1 0 0 0 0 1 0 0 1 1 1 1 1 1 0 1 0 0 0 0 0 0 0 0 1 0 1 0 0\n",
      " 0 0 0 0 0 0 1 0 1 0 0 0 0 0 0 0 1 0 0 0 0 0 0 0 0 1 0 0 0 0 0 0 0 0 0 0 0\n",
      " 0 0 0 0 0 0 0 0 0 0 0]\n",
      "[0 0 0 1 1 1 1 1 0 0 0 0 1 0 1 0 0 1 0 0 0 0 0 1 0 0 0 0 0 0 0 0 0 1 1 1 0\n",
      " 0 1 0 0 0 1 0 0 1 1 0 0 1 1 1 1 1 1 1 1 1 1 0 0 0 0 0 0 0 0 0 0 1 0 1 0 1\n",
      " 0 1 0 0 0 0 1 0 1 1 0 0 0 0 0 1 0 0 0 0 1 0 0 1 0 0 0 0 0 1 0 0 0 0 0 1 0\n",
      " 0 0 0 0 0 0 0 0 0 0 0]\n",
      "AUC is:  0.6879699248120301\n",
      "              precision    recall  f1-score   support\n",
      "\n",
      "           0       0.79      0.93      0.85        84\n",
      "           1       0.74      0.45      0.56        38\n",
      "\n",
      "    accuracy                           0.78       122\n",
      "   macro avg       0.76      0.69      0.70       122\n",
      "weighted avg       0.77      0.78      0.76       122\n",
      "\n",
      "Confusion Matrix: \n",
      " [[78  6]\n",
      " [21 17]]\n"
     ]
    },
    {
     "data": {
      "text/plain": [
       "LogisticRegression(C=1, n_jobs=3)"
      ]
     },
     "execution_count": 71,
     "metadata": {},
     "output_type": "execute_result"
    },
    {
     "data": {
      "image/png": "[encoded data removed]",
      "text/plain": [
       "<Figure size 432x288 with 1 Axes>"
      ]
     },
     "metadata": {
      "needs_background": "light"
     },
     "output_type": "display_data"
    }
   ],
   "source": [
    "def find_best_logreg_model(power):\n",
    "    best_f1_model = None\n",
    "    best_f1 = -1\n",
    "    best_recall = -1\n",
    "    \n",
    "    for i in range(power + 1):\n",
    "        model = LogisticRegression(n_jobs=3, C=10**i)\n",
    "        \n",
    "        f1_scores, recall_scores = k_cross(model)\n",
    "        f1 = np.mean(f1_scores)\n",
    "        recall = np.mean(recall_scores)\n",
    "\n",
    "        if f1 > best_f1:\n",
    "            best_f1 = f1\n",
    "            best_recall = recall\n",
    "            best_f1_model = model\n",
    "    \n",
    "    print(f\"best scores: f1 = {best_f1}, recall = {best_recall}\")\n",
    "    \n",
    "    return best_f1_model\n",
    "\n",
    "best_logreg_f1_model = find_best_logreg_model(6)\n",
    "evaluate_model(best_logreg_f1_model)"
   ]
  },
  {
   "cell_type": "markdown",
   "id": "354a2269",
   "metadata": {},
   "source": [
    "### 3. Decision Tree"
   ]
  },
  {
   "cell_type": "code",
   "execution_count": 73,
   "id": "b55648f3",
   "metadata": {},
   "outputs": [
    {
     "name": "stdout",
     "output_type": "stream",
     "text": [
      "best scores: f1 = 0.370011446821078, recall = 0.40493626743626737\n",
      "[0 0 0 1 1 0 0 1 0 0 0 0 0 0 1 0 0 1 0 0 1 0 0 1 0 0 0 0 0 0 0 0 0 1 1 0 0\n",
      " 0 1 0 0 0 1 0 0 1 0 0 0 0 1 0 1 1 1 1 1 1 1 0 0 0 0 0 0 0 0 0 0 1 0 1 1 1\n",
      " 0 0 0 0 0 0 0 0 1 1 1 1 0 0 0 0 0 0 0 0 1 0 0 1 0 0 0 0 0 1 0 0 0 0 0 0 0\n",
      " 0 0 0 0 0 0 0 0 0 0 0]\n",
      "[0 0 0 1 1 1 1 1 0 0 0 0 1 0 1 0 0 1 0 0 0 0 0 1 0 0 0 0 0 0 0 0 0 1 1 1 0\n",
      " 0 1 0 0 0 1 0 0 1 1 0 0 1 1 1 1 1 1 1 1 1 1 0 0 0 0 0 0 0 0 0 0 1 0 1 0 1\n",
      " 0 1 0 0 0 0 1 0 1 1 0 0 0 0 0 1 0 0 0 0 1 0 0 1 0 0 0 0 0 1 0 0 0 0 0 1 0\n",
      " 0 0 0 0 0 0 0 0 0 0 0]\n",
      "AUC is:  0.8314536340852129\n",
      "              precision    recall  f1-score   support\n",
      "\n",
      "           0       0.88      0.95      0.91        84\n",
      "           1       0.87      0.71      0.78        38\n",
      "\n",
      "    accuracy                           0.88       122\n",
      "   macro avg       0.88      0.83      0.85       122\n",
      "weighted avg       0.88      0.88      0.87       122\n",
      "\n",
      "Confusion Matrix: \n",
      " [[80  4]\n",
      " [11 27]]\n"
     ]
    },
    {
     "data": {
      "text/plain": [
       "DecisionTreeClassifier(max_depth=6, min_samples_leaf=5, random_state=42)"
      ]
     },
     "execution_count": 73,
     "metadata": {},
     "output_type": "execute_result"
    },
    {
     "data": {
      "image/png": "[encoded data removed]",
      "text/plain": [
       "<Figure size 432x288 with 1 Axes>"
      ]
     },
     "metadata": {
      "needs_background": "light"
     },
     "output_type": "display_data"
    }
   ],
   "source": [
    "def find_best_tree_model(upper_depth, upper_leaf):\n",
    "    best_f1_model = None\n",
    "    best_f1 = -1\n",
    "    best_recall = -1\n",
    "    \n",
    "    for depth in range(1, upper_depth + 1):\n",
    "        for leaf in range(1, upper_leaf + 1):\n",
    "            model = DecisionTreeClassifier(random_state=RANDOM_STATE, max_depth=depth, min_samples_leaf=leaf) \n",
    "            \n",
    "            f1_scores, recall_scores = k_cross(model)\n",
    "            f1 = np.mean(f1_scores)\n",
    "            recall = np.mean(recall_scores)\n",
    "            \n",
    "            if f1 > best_f1:\n",
    "                best_f1 = f1\n",
    "                best_recall = recall\n",
    "                best_f1_model = model\n",
    "    \n",
    "    print(f\"best scores: f1 = {best_f1}, recall = {best_recall}\")\n",
    "    \n",
    "    return best_f1_model\n",
    "\n",
    "best_tree_f1_model = find_best_tree_model(20, 30)\n",
    "evaluate_model(best_tree_f1_model)"
   ]
  },
  {
   "cell_type": "markdown",
   "id": "8942189e",
   "metadata": {},
   "source": [
    "### 4. Random Forest"
   ]
  },
  {
   "cell_type": "code",
   "execution_count": 74,
   "id": "d1122163",
   "metadata": {},
   "outputs": [
    {
     "name": "stdout",
     "output_type": "stream",
     "text": [
      "best scores: f1 = 0.3493353858081614, recall = 0.3723003848003848\n",
      "[0 0 0 1 1 1 0 1 0 0 0 0 0 0 1 0 0 1 0 0 0 0 0 1 0 0 1 0 0 0 0 0 0 1 1 1 0\n",
      " 0 1 0 0 0 0 0 0 1 1 0 0 1 1 1 1 1 1 1 1 1 1 0 0 0 0 0 0 0 0 0 0 1 0 1 0 1\n",
      " 0 1 0 0 0 0 1 0 1 1 0 0 0 0 0 1 0 0 0 0 1 0 0 1 0 0 0 0 0 1 0 0 0 0 0 1 0\n",
      " 0 0 0 0 0 1 0 0 0 0 0]\n",
      "[0 0 0 1 1 1 1 1 0 0 0 0 1 0 1 0 0 1 0 0 0 0 0 1 0 0 0 0 0 0 0 0 0 1 1 1 0\n",
      " 0 1 0 0 0 1 0 0 1 1 0 0 1 1 1 1 1 1 1 1 1 1 0 0 0 0 0 0 0 0 0 0 1 0 1 0 1\n",
      " 0 1 0 0 0 0 1 0 1 1 0 0 0 0 0 1 0 0 0 0 1 0 0 1 0 0 0 0 0 1 0 0 0 0 0 1 0\n",
      " 0 0 0 0 0 0 0 0 0 0 0]\n",
      "AUC is:  0.9486215538847117\n",
      "              precision    recall  f1-score   support\n",
      "\n",
      "           0       0.96      0.98      0.97        84\n",
      "           1       0.95      0.92      0.93        38\n",
      "\n",
      "    accuracy                           0.96       122\n",
      "   macro avg       0.96      0.95      0.95       122\n",
      "weighted avg       0.96      0.96      0.96       122\n",
      "\n",
      "Confusion Matrix: \n",
      " [[82  2]\n",
      " [ 3 35]]\n"
     ]
    },
    {
     "data": {
      "text/plain": [
       "RandomForestClassifier(n_estimators=5, random_state=42)"
      ]
     },
     "execution_count": 74,
     "metadata": {},
     "output_type": "execute_result"
    },
    {
     "data": {
      "image/png": "[encoded data removed]",
      "text/plain": [
       "<Figure size 432x288 with 1 Axes>"
      ]
     },
     "metadata": {
      "needs_background": "light"
     },
     "output_type": "display_data"
    }
   ],
   "source": [
    "def find_best_forest_model(n_estimators):\n",
    "    best_f1_model = None\n",
    "    best_f1 = -1\n",
    "    best_recall = -1\n",
    "    \n",
    "    for estimator in range(1, n_estimators + 1):\n",
    "        model = RandomForestClassifier(random_state=RANDOM_STATE, n_estimators=estimator) \n",
    "        \n",
    "        f1_scores, recall_scores = k_cross(model)\n",
    "        f1 = np.mean(f1_scores)\n",
    "        recall = np.mean(recall_scores)\n",
    "\n",
    "        if f1 > best_f1:\n",
    "            best_f1 = f1\n",
    "            best_recall = recall\n",
    "            best_f1_model = model\n",
    "    \n",
    "    print(f\"best scores: f1 = {best_f1}, recall = {best_recall}\")\n",
    "    \n",
    "    return best_f1_model\n",
    "\n",
    "best_forest_f1_model = find_best_forest_model(30)\n",
    "evaluate_model(best_forest_f1_model)"
   ]
  },
  {
   "cell_type": "markdown",
   "id": "65903796",
   "metadata": {},
   "source": [
    "### 5. SVM with Grid Search"
   ]
  },
  {
   "cell_type": "code",
   "execution_count": 76,
   "id": "bc8d45a3",
   "metadata": {},
   "outputs": [
    {
     "name": "stdout",
     "output_type": "stream",
     "text": [
      "Fitting 10 folds for each of 18 candidates, totalling 180 fits\n",
      "Fitting 10 folds for each of 18 candidates, totalling 180 fits\n",
      "Fitting 10 folds for each of 18 candidates, totalling 180 fits\n",
      "Fitting 10 folds for each of 18 candidates, totalling 180 fits\n",
      "Fitting 10 folds for each of 18 candidates, totalling 180 fits\n",
      "Fitting 10 folds for each of 18 candidates, totalling 180 fits\n",
      "Fitting 10 folds for each of 18 candidates, totalling 180 fits\n",
      "Fitting 10 folds for each of 18 candidates, totalling 180 fits\n",
      "Fitting 10 folds for each of 18 candidates, totalling 180 fits\n",
      "Fitting 10 folds for each of 18 candidates, totalling 180 fits\n",
      "Fitting 10 folds for each of 18 candidates, totalling 180 fits\n",
      "Fitting 10 folds for each of 18 candidates, totalling 180 fits\n",
      "f1 mean score: 0.3760240848476142\n",
      "recall mean score: 0.3936357623857624\n",
      "Fitting 10 folds for each of 18 candidates, totalling 180 fits\n",
      "[0 0 0 1 1 1 1 1 0 0 0 0 1 0 1 0 0 1 0 0 0 0 0 1 0 0 0 0 0 0 0 0 0 1 1 1 0\n",
      " 0 1 0 0 0 1 0 0 1 1 0 0 1 1 1 1 1 1 1 1 1 1 0 0 0 0 0 0 0 0 0 0 1 0 1 0 1\n",
      " 0 1 0 0 0 0 1 0 1 1 0 0 0 0 0 1 0 0 0 0 1 0 0 1 0 0 0 0 0 1 0 0 0 0 0 1 0\n",
      " 0 0 0 0 0 0 0 0 0 0 0]\n",
      "[0 0 0 1 1 1 1 1 0 0 0 0 1 0 1 0 0 1 0 0 0 0 0 1 0 0 0 0 0 0 0 0 0 1 1 1 0\n",
      " 0 1 0 0 0 1 0 0 1 1 0 0 1 1 1 1 1 1 1 1 1 1 0 0 0 0 0 0 0 0 0 0 1 0 1 0 1\n",
      " 0 1 0 0 0 0 1 0 1 1 0 0 0 0 0 1 0 0 0 0 1 0 0 1 0 0 0 0 0 1 0 0 0 0 0 1 0\n",
      " 0 0 0 0 0 0 0 0 0 0 0]\n",
      "AUC is:  1.0\n",
      "              precision    recall  f1-score   support\n",
      "\n",
      "           0       1.00      1.00      1.00        84\n",
      "           1       1.00      1.00      1.00        38\n",
      "\n",
      "    accuracy                           1.00       122\n",
      "   macro avg       1.00      1.00      1.00       122\n",
      "weighted avg       1.00      1.00      1.00       122\n",
      "\n",
      "Confusion Matrix: \n",
      " [[84  0]\n",
      " [ 0 38]]\n",
      "Best SVM parameters: {'C': 100, 'gamma': 0.001, 'kernel': 'rbf'}\n"
     ]
    },
    {
     "data": {
      "image/png": "[encoded data removed]",
      "text/plain": [
       "<Figure size 432x288 with 1 Axes>"
      ]
     },
     "metadata": {
      "needs_background": "light"
     },
     "output_type": "display_data"
    }
   ],
   "source": [
    "tuned_parameters = [{'kernel': ['rbf'], 'gamma': [1e-3, 1e-4], 'C': [1, 10, 100]},\n",
    "                    {'kernel': ['poly'], 'degree': [3, 4, 5], 'C': [1, 10, 100]},\n",
    "                    {'kernel': ['linear'], 'C': [1, 10, 100]}]\n",
    "\n",
    "svm_model_cv = GridSearchCV(SVC(), tuned_parameters, cv=10, scoring='f1', verbose=1, n_jobs=4)\n",
    "\n",
    "f1_scores, recall_scores = k_cross(svm_model_cv)\n",
    "\n",
    "print(f\"f1 mean score: {np.mean(f1_scores)}\")\n",
    "print(f\"recall mean score: {np.mean(recall_scores)}\")\n",
    "\n",
    "best_svm_model = evaluate_model(svm_model_cv)\n",
    "print(f\"Best SVM parameters: {best_svm_model.best_params_}\")"
   ]
  },
  {
   "cell_type": "markdown",
   "id": "d7fb800e",
   "metadata": {},
   "source": [
    "## Save the Model to be used for Depression Detection"
   ]
  },
  {
   "cell_type": "code",
   "execution_count": 78,
   "id": "8683c612",
   "metadata": {},
   "outputs": [],
   "source": [
    "import pickle\n",
    "pickle.dump(best_forest_f1_model, open('python/dd_audio.pkl','wb'))"
   ]
  },
  {
   "cell_type": "code",
   "execution_count": null,
   "id": "9627f924",
   "metadata": {},
   "outputs": [],
   "source": []
  }
 ],
 "metadata": {
  "kernelspec": {
   "display_name": "Python 3",
   "language": "python",
   "name": "python3"
  },
  "language_info": {
   "codemirror_mode": {
    "name": "ipython",
    "version": 3
   },
   "file_extension": ".py",
   "mimetype": "text/x-python",
   "name": "python",
   "nbconvert_exporter": "python",
   "pygments_lexer": "ipython3",
   "version": "3.8.8"
  }
 },
 "nbformat": 4,
 "nbformat_minor": 5
}
